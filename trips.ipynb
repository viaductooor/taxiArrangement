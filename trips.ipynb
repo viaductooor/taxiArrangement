{
 "cells": [
  {
   "cell_type": "code",
   "execution_count": 1,
   "metadata": {
    "collapsed": true
   },
   "outputs": [],
   "source": [
    "home = r'C:\\Users\\John Smith\\Desktop\\DynamicTaxiArrangement(1)\\DynamicTaxiArrangement\\files'\n",
    "trip = home+r'\\trip.xlsx'\n",
    "trip_out = home+r'\\trip_out.xls'\n",
    "trips = home+r'\\trips.xls'"
   ]
  },
  {
   "cell_type": "code",
   "execution_count": 2,
   "metadata": {
    "collapsed": true
   },
   "outputs": [],
   "source": [
    "import xlrd\n",
    "import xlwt\n"
   ]
  },
  {
   "cell_type": "code",
   "execution_count": 3,
   "metadata": {},
   "outputs": [
    {
     "name": "stdout",
     "output_type": "stream",
     "text": [
      "13679 13679\n",
      "['medallion', ' hack_license', ' vendor_id', ' rate_code', ' store_and_fwd_flag', ' pickup_datetime', ' dropoff_datetime', ' passenger_count', ' trip_time_in_secs', ' trip_distance', ' pickup_longitude', ' pickup_latitude', ' dropoff_longitude', ' dropoff_latitude'] ['trip_no', 'init_node', 'end_node']\n"
     ]
    }
   ],
   "source": [
    "table_trip = xlrd.open_workbook(trip).sheet_by_index(0)\n",
    "table_trip_out = xlrd.open_workbook(trip_out).sheet_by_index(0)\n",
    "print(table_trip.nrows,table_trip_out.nrows)\n",
    "print(table_trip.row_values(0),table_trip_out.row_values(0))"
   ]
  },
  {
   "cell_type": "code",
   "execution_count": 10,
   "metadata": {},
   "outputs": [],
   "source": [
    "out = xlwt.Workbook()\n",
    "outsheet =out.add_sheet('content')\n",
    "cols = ['no','location_node','destination_node','location_lat','location_lon','destination_lat','destination_lon','time']\n",
    "for i in range(len(cols)):\n",
    "    outsheet.write(0,i,cols[i])"
   ]
  },
  {
   "cell_type": "code",
   "execution_count": 11,
   "metadata": {
    "collapsed": true
   },
   "outputs": [],
   "source": [
    "\n",
    "\n",
    "for i in range(1,table_trip.nrows):\n",
    "    trow = table_trip.row_values(i)\n",
    "    orow = table_trip_out.row_values(i)\n",
    "    outsheet.write(i,0,i)\n",
    "    outsheet.write(i,1,orow[1])\n",
    "    outsheet.write(i,2,orow[2])\n",
    "    outsheet.write(i,3,trow[11])\n",
    "    outsheet.write(i,4,trow[10])\n",
    "    outsheet.write(i,5,trow[13])\n",
    "    outsheet.write(i,6,trow[12])\n",
    "    outsheet.write(i,7,trow[5])\n",
    "out.save(trips)"
   ]
  },
  {
   "cell_type": "code",
   "execution_count": null,
   "metadata": {
    "collapsed": true
   },
   "outputs": [],
   "source": []
  }
 ],
 "metadata": {
  "kernelspec": {
   "display_name": "Python 3",
   "language": "python",
   "name": "python3"
  },
  "language_info": {
   "codemirror_mode": {
    "name": "ipython",
    "version": 3
   },
   "file_extension": ".py",
   "mimetype": "text/x-python",
   "name": "python",
   "nbconvert_exporter": "python",
   "pygments_lexer": "ipython3",
   "version": "3.6.1"
  }
 },
 "nbformat": 4,
 "nbformat_minor": 2
}
